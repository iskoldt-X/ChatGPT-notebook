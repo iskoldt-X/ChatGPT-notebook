{
 "cells": [
  {
   "cell_type": "code",
   "execution_count": null,
   "id": "28cd6813-4f5d-4e78-abd6-4883fcbbe4ed",
   "metadata": {
    "tags": []
   },
   "outputs": [],
   "source": [
    "!pip install openai"
   ]
  },
  {
   "cell_type": "code",
   "execution_count": null,
   "id": "146d6659-edc0-4603-912b-cf88018eb1b4",
   "metadata": {
    "tags": []
   },
   "outputs": [],
   "source": [
    "import openai\n",
    "from IPython.display import Markdown\n",
    "\n",
    "openai.api_key = ''"
   ]
  },
  {
   "cell_type": "code",
   "execution_count": null,
   "id": "cc855902-1d55-4b19-92ee-9366559b49f1",
   "metadata": {
    "tags": []
   },
   "outputs": [],
   "source": [
    "class ChatBot:\n",
    "    def __init__(self, system=\"\"):\n",
    "        self.system = system\n",
    "        self.messages = []\n",
    "        if self.system:\n",
    "            self.messages.append({\"role\": \"system\", \"content\": system})\n",
    "    \n",
    "    def __call__(self, message):\n",
    "        self.messages.append({\"role\": \"user\", \"content\": message})\n",
    "        result = self.execute()\n",
    "        self.messages.append({\"role\": \"assistant\", \"content\": result})\n",
    "        return result\n",
    "    \n",
    "    def execute(self):\n",
    "        completion = openai.ChatCompletion.create(model=\"gpt-3.5-turbo\", messages=self.messages)\n",
    "        # Uncomment this to print out token usage each time, e.g.\n",
    "        # {\"completion_tokens\": 86, \"prompt_tokens\": 26, \"total_tokens\": 112}\n",
    "        # print(completion.usage)\n",
    "        return completion.choices[0].message.content\n",
    "    \n",
    "def chat_with_bot():\n",
    "    bot = ChatBot(system=\"Hello, I'm ChatGPT. How can I assist you today?\")\n",
    "    while True:\n",
    "        user_input = input(\"You: \")\n",
    "        bot_response = bot(user_input)\n",
    "        print('\\n\\nChatGPT:\\n')\n",
    "        display(Markdown(bot_response))"
   ]
  },
  {
   "cell_type": "code",
   "execution_count": null,
   "id": "191fba90-81cb-4ecd-b236-c882c7321291",
   "metadata": {
    "tags": []
   },
   "outputs": [
    {
     "name": "stdout",
     "output_type": "stream",
     "text": [
      "You:  Hello! Please write a python code to print hello world.\n"
     ]
    },
    {
     "name": "stdout",
     "output_type": "stream",
     "text": [
      "\n",
      "\n",
      "ChatGPT:\n",
      "\n"
     ]
    },
    {
     "data": {
      "text/markdown": [
       "Certainly! Here's a simple Python code to print \"Hello, World!\" to the console:\n",
       "\n",
       "```python\n",
       "print(\"Hello, World!\")\n",
       "```\n",
       "\n",
       "You can copy and paste this code into a Python environment, or save it to a Python file and run it using the command line or an integrated development environment."
      ],
      "text/plain": [
       "<IPython.core.display.Markdown object>"
      ]
     },
     "metadata": {},
     "output_type": "display_data"
    }
   ],
   "source": [
    "chat_with_bot()"
   ]
  }
 ],
 "metadata": {
  "kernelspec": {
   "display_name": "Python 3 (ipykernel)",
   "language": "python",
   "name": "python3"
  },
  "language_info": {
   "codemirror_mode": {
    "name": "ipython",
    "version": 3
   },
   "file_extension": ".py",
   "mimetype": "text/x-python",
   "name": "python",
   "nbconvert_exporter": "python",
   "pygments_lexer": "ipython3",
   "version": "3.10.9"
  }
 },
 "nbformat": 4,
 "nbformat_minor": 5
}
